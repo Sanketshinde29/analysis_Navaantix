{
 "cells": [
  {
   "cell_type": "code",
   "execution_count": 35,
   "id": "b44535bf-8df2-4fb5-ae76-791857c83c85",
   "metadata": {},
   "outputs": [],
   "source": [
    "import pandas as pd\n"
   ]
  },
  {
   "cell_type": "code",
   "execution_count": 37,
   "id": "45eaeffc-0190-429e-9c1c-dd24224b894c",
   "metadata": {},
   "outputs": [],
   "source": [
    "file_path=r\"C:\\Users\\sanke\\Downloads\\Navaantrix.csv\""
   ]
  },
  {
   "cell_type": "code",
   "execution_count": 39,
   "id": "f2748b07-e2a3-4943-8a94-de36d13c771c",
   "metadata": {},
   "outputs": [
    {
     "name": "stdout",
     "output_type": "stream",
     "text": [
      "Dataset loaded successfully!\n",
      "        Date Product     Category  Region  Sales  Quantity  Profit\n",
      "0  8/10/2025  Laptop  Electronics  Mumbai  58400         1    5000\n"
     ]
    }
   ],
   "source": [
    "\n",
    "    df = pd.read_csv(file_path)\n",
    "    print(\"Dataset loaded successfully!\")\n",
    "\n",
    "\n",
    "# Display first 5 rows\n",
    "print(df.head())"
   ]
  },
  {
   "cell_type": "code",
   "execution_count": 41,
   "id": "1e55b754-5713-42a2-ad5a-720f2bd33102",
   "metadata": {},
   "outputs": [
    {
     "name": "stdout",
     "output_type": "stream",
     "text": [
      "\n",
      "Record added successfully!\n",
      "\n",
      "         Date Product     Category  Region  Sales  Quantity  Profit\n",
      "0   8/10/2025  Laptop  Electronics  Mumbai  58400         1    5000\n",
      "1  2025-09-12  Laptop  Electronics    Pune  50000         2   10000\n"
     ]
    }
   ],
   "source": [
    "# Insert\n",
    "new_record = pd.DataFrame([{\n",
    "    'Date': '2025-09-12',\n",
    "    'Product': 'Laptop',\n",
    "    'Category': 'Electronics',\n",
    "    'Region': 'Pune',\n",
    "    'Sales': 50000,\n",
    "    'Quantity': 2,\n",
    "    'Profit': 10000\n",
    "}])\n",
    "\n",
    "# Concatenate \n",
    "df = pd.concat([df, new_record], ignore_index=True)\n",
    "\n",
    "print(\"\\nRecord added successfully!\\n\")\n",
    "print(df.tail())\n"
   ]
  },
  {
   "cell_type": "code",
   "execution_count": 43,
   "id": "b30e9e86-1562-4622-b576-247679c13605",
   "metadata": {},
   "outputs": [
    {
     "name": "stdout",
     "output_type": "stream",
     "text": [
      "\n",
      "Sales in Pune:\n",
      "          Date Product     Category Region  Sales  Quantity  Profit\n",
      "1  2025-09-12  Laptop  Electronics   Pune  50000         2   10000\n"
     ]
    }
   ],
   "source": [
    "# Read \n",
    "pune_sales = df[df['Region'] == 'Pune']\n",
    " pune_sales"
   ]
  },
  {
   "cell_type": "code",
   "execution_count": 49,
   "id": "01b1f738-e5cd-4e9b-88d0-7a6877ef6345",
   "metadata": {},
   "outputs": [
    {
     "data": {
      "text/html": [
       "<div>\n",
       "<style scoped>\n",
       "    .dataframe tbody tr th:only-of-type {\n",
       "        vertical-align: middle;\n",
       "    }\n",
       "\n",
       "    .dataframe tbody tr th {\n",
       "        vertical-align: top;\n",
       "    }\n",
       "\n",
       "    .dataframe thead th {\n",
       "        text-align: right;\n",
       "    }\n",
       "</style>\n",
       "<table border=\"1\" class=\"dataframe\">\n",
       "  <thead>\n",
       "    <tr style=\"text-align: right;\">\n",
       "      <th></th>\n",
       "      <th>Date</th>\n",
       "      <th>Product</th>\n",
       "      <th>Category</th>\n",
       "      <th>Region</th>\n",
       "      <th>Sales</th>\n",
       "      <th>Quantity</th>\n",
       "      <th>Profit</th>\n",
       "    </tr>\n",
       "  </thead>\n",
       "  <tbody>\n",
       "    <tr>\n",
       "      <th>0</th>\n",
       "      <td>8/10/2025</td>\n",
       "      <td>Laptop</td>\n",
       "      <td>Electronics</td>\n",
       "      <td>Mumbai</td>\n",
       "      <td>58400</td>\n",
       "      <td>1</td>\n",
       "      <td>5000</td>\n",
       "    </tr>\n",
       "    <tr>\n",
       "      <th>1</th>\n",
       "      <td>2025-09-12</td>\n",
       "      <td>Laptop</td>\n",
       "      <td>Electronics</td>\n",
       "      <td>Pune</td>\n",
       "      <td>55000</td>\n",
       "      <td>2</td>\n",
       "      <td>10000</td>\n",
       "    </tr>\n",
       "  </tbody>\n",
       "</table>\n",
       "</div>"
      ],
      "text/plain": [
       "         Date Product     Category  Region  Sales  Quantity  Profit\n",
       "0   8/10/2025  Laptop  Electronics  Mumbai  58400         1    5000\n",
       "1  2025-09-12  Laptop  Electronics    Pune  55000         2   10000"
      ]
     },
     "execution_count": 49,
     "metadata": {},
     "output_type": "execute_result"
    }
   ],
   "source": [
    "# Update\n",
    "df.loc[(df['Product'] == 'Laptop') & (df['Region'] == 'Pune'), 'Sales'] = 55000\n",
    "df[df['Product'] == 'Laptop']"
   ]
  },
  {
   "cell_type": "code",
   "execution_count": null,
   "id": "b9bfb3b9-6d96-408e-8520-6edcf3d3e09a",
   "metadata": {},
   "outputs": [],
   "source": [
    "# Delete\n",
    "# Example: Delete all records where Quantity is 2\n",
    "df = df[df['Quantity'] != 2]\n",
    "print(\"\\nRecords after deleting Quantity = 2:\\n\",df)\n",
    "\n",
    "# ------------------- Save Changes Back to CSV -------------------\n",
    "df.to_csv(file_path, index=False)\n",
    "print(\"\\nChanges saved to CSV successfully!\")"
   ]
  }
 ],
 "metadata": {
  "kernelspec": {
   "display_name": "Python 3 (ipykernel)",
   "language": "python",
   "name": "python3"
  },
  "language_info": {
   "codemirror_mode": {
    "name": "ipython",
    "version": 3
   },
   "file_extension": ".py",
   "mimetype": "text/x-python",
   "name": "python",
   "nbconvert_exporter": "python",
   "pygments_lexer": "ipython3",
   "version": "3.12.7"
  }
 },
 "nbformat": 4,
 "nbformat_minor": 5
}
