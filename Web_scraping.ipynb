{
 "cells": [
  {
   "cell_type": "code",
   "execution_count": 27,
   "id": "9e29968e-b9a0-4f72-acd3-ec2459084ec6",
   "metadata": {},
   "outputs": [],
   "source": [
    "import requests\n",
    "from bs4 import BeautifulSoup\n",
    "import pandas as pd"
   ]
  },
  {
   "cell_type": "code",
   "execution_count": 29,
   "id": "f20c9f91-a65f-47de-8e0c-4eee7bfd65d4",
   "metadata": {},
   "outputs": [],
   "source": [
    "# Function to scrape Amazon\n",
    "def scrape_amazon(query, max_results=5):\n",
    "    headers = {\"User-Agent\": \"Mozilla/5.0\"}\n",
    "    url = f\"https://www.amazon.in/s?k={query.replace(' ', '+')}\"\n",
    "    response = requests.get(url, headers=headers)\n",
    "    soup = BeautifulSoup(response.content, \"html.parser\")\n",
    "\n",
    "    products = []\n",
    "    results = soup.find_all(\"div\", {\"data-component-type\": \"s-search-result\"})\n",
    "\n",
    "    for item in results[:max_results]:\n",
    "        name = item.h2.text.strip() if item.h2 else \"N/A\"\n",
    "        price = item.find(\"span\", \"a-price-whole\")\n",
    "        price = price.text.strip() if price else \"N/A\"\n",
    "        rating = item.find(\"span\", \"a-icon-alt\")\n",
    "        rating = rating.text.strip() if rating else \"N/A\"\n",
    "\n",
    "        products.append([\"Amazon\", name, price, rating])\n",
    "    return products"
   ]
  },
  {
   "cell_type": "code",
   "execution_count": 31,
   "id": "63c46d11-3ec1-4129-9757-925ea0c03505",
   "metadata": {},
   "outputs": [],
   "source": [
    "# Function to scrape Flipkart\n",
    "def scrape_flipkart(query, max_results=5):\n",
    "    headers = {\"User-Agent\": \"Mozilla/5.0\"}\n",
    "    url = f\"https://www.flipkart.com/search?q={query.replace(' ', '+')}\"\n",
    "    response = requests.get(url, headers=headers)\n",
    "    soup = BeautifulSoup(response.content, \"html.parser\")\n",
    "\n",
    "    products = []\n",
    "    results = soup.find_all(\"div\", {\"class\": \"_1AtVbE\"})\n",
    "\n",
    "    for item in results:\n",
    "        name = item.find(\"div\", {\"class\": \"_4rR01T\"}) or item.find(\"a\", {\"class\": \"IRpwTa\"})\n",
    "        if not name:\n",
    "            continue\n",
    "\n",
    "        price = item.find(\"div\", {\"class\": \"_30jeq3\"})\n",
    "        rating = item.find(\"div\", {\"class\": \"_3LWZlK\"})\n",
    "\n",
    "        products.append([\"Flipkart\",\n",
    "                         name.text.strip() if name else \"N/A\",\n",
    "                         price.text.strip() if price else \"N/A\",\n",
    "                         rating.text.strip() if rating else \"N/A\"])\n",
    "\n",
    "        if len(products) >= max_results:\n",
    "            break\n",
    "    return products"
   ]
  },
  {
   "cell_type": "code",
   "execution_count": 25,
   "id": "4a8eb606-f461-4c62-b1d2-4abfe91c3d1f",
   "metadata": {},
   "outputs": [
    {
     "name": "stdin",
     "output_type": "stream",
     "text": [
      "Enter the product to search:  phone\n"
     ]
    },
    {
     "name": "stdout",
     "output_type": "stream",
     "text": [
      "Data saved to product_details.xlsx\n"
     ]
    }
   ],
   "source": [
    "# Store in file\n",
    "if __name__ == \"__main__\":\n",
    "    query = input(\"Enter the product to search: \")\n",
    "\n",
    "    amazon_data = scrape_amazon(query)\n",
    "    flipkart_data = scrape_flipkart(query)\n",
    "\n",
    "    # Combine both data\n",
    "    all_data = amazon_data + flipkart_data\n",
    "\n",
    "    # Saving\n",
    "    df = pd.DataFrame(all_data, columns=[\"Website\", \"Product Name\", \"Price\", \"Rating\"])\n",
    "    df.to_excel(\"product_details.xlsx\", index=False)\n",
    "\n",
    "    print(\"Data saved to product_details.xlsx\")"
   ]
  },
  {
   "cell_type": "code",
   "execution_count": null,
   "id": "c1021669-4538-405e-814e-d6c2ddd21ed6",
   "metadata": {},
   "outputs": [],
   "source": []
  }
 ],
 "metadata": {
  "kernelspec": {
   "display_name": "Python 3 (ipykernel)",
   "language": "python",
   "name": "python3"
  },
  "language_info": {
   "codemirror_mode": {
    "name": "ipython",
    "version": 3
   },
   "file_extension": ".py",
   "mimetype": "text/x-python",
   "name": "python",
   "nbconvert_exporter": "python",
   "pygments_lexer": "ipython3",
   "version": "3.12.7"
  }
 },
 "nbformat": 4,
 "nbformat_minor": 5
}
